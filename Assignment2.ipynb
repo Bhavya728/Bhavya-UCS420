{
  "nbformat": 4,
  "nbformat_minor": 0,
  "metadata": {
    "colab": {
      "provenance": [],
      "authorship_tag": "ABX9TyPikrV7ZeJ7zQMeEfWjdjDU",
      "include_colab_link": true
    },
    "kernelspec": {
      "name": "python3",
      "display_name": "Python 3"
    },
    "language_info": {
      "name": "python"
    }
  },
  "cells": [
    {
      "cell_type": "markdown",
      "metadata": {
        "id": "view-in-github",
        "colab_type": "text"
      },
      "source": [
        "<a href=\"https://colab.research.google.com/github/Bhavya728/Bhavya-UCS420/blob/main/Assignment2.ipynb\" target=\"_parent\"><img src=\"https://colab.research.google.com/assets/colab-badge.svg\" alt=\"Open In Colab\"/></a>"
      ]
    },
    {
      "cell_type": "code",
      "execution_count": null,
      "metadata": {
        "id": "QkRdq1PIbING"
      },
      "outputs": [],
      "source": []
    },
    {
      "cell_type": "markdown",
      "source": [
        "A1.Q1"
      ],
      "metadata": {
        "id": "Z32ZrS4WbRTP"
      }
    },
    {
      "cell_type": "code",
      "source": [
        "list1=[10,20,30,40,50,60,70,80]\n",
        "list1.append(200)\n",
        "list1.append(300)\n",
        "print(list1)\n",
        "list1.remove(10)\n",
        "list1.remove(30)\n",
        "print(list1)\n",
        "list1.sort()\n",
        "print(list1)\n",
        "list1.sort(reverse=True)\n",
        "print(list1)"
      ],
      "metadata": {
        "colab": {
          "base_uri": "https://localhost:8080/"
        },
        "id": "QH-4s9BLbWJE",
        "outputId": "96329a6e-b6c9-46c7-ea56-a182fce2f983"
      },
      "execution_count": null,
      "outputs": [
        {
          "output_type": "stream",
          "name": "stdout",
          "text": [
            "[10, 20, 30, 40, 50, 60, 70, 80, 200, 300]\n",
            "[20, 40, 50, 60, 70, 80, 200, 300]\n",
            "[20, 40, 50, 60, 70, 80, 200, 300]\n",
            "[300, 200, 80, 70, 60, 50, 40, 20]\n"
          ]
        }
      ]
    },
    {
      "cell_type": "markdown",
      "source": [
        "A2.Q2"
      ],
      "metadata": {
        "id": "umolAPCsbbQe"
      }
    },
    {
      "cell_type": "code",
      "source": [
        "\n",
        "scores = (45, 89.5, 76, 45.4, 89, 92, 58, 45)\n",
        "a = max(scores)\n",
        "print(f\"{a} is the maximum value and is found at index: {scores.index(a)}\")\n",
        "\n",
        "b = min(scores)\n",
        "print(f\"{b} is the minimum value and its count is: {scores.count(b)}\")\n",
        "\n",
        "print(f\"Type of 'scores': {type(scores)}\")\n",
        "\n",
        "scores = tuple(reversed(scores))\n",
        "print(\"List after reversing the tuple:\", scores)\n",
        "print(f\"Type of 'scores' after conversion: {type(scores)}\")\n",
        "\n",
        "scores = tuple(scores)\n",
        "\n",
        "x = int(input(\"Enter a number: \"))\n",
        "if x in scores:\n",
        "    print(f\"{x} is present in the tuple at index (after reverse): {scores.index(x)}\")\n",
        "else:\n",
        "    print(f\"{x} is not present in the tuple\")\n"
      ],
      "metadata": {
        "colab": {
          "base_uri": "https://localhost:8080/"
        },
        "id": "IrWXnycwbcpD",
        "outputId": "03d78e64-2296-407e-886f-6ef6d7b23ee2"
      },
      "execution_count": null,
      "outputs": [
        {
          "output_type": "stream",
          "name": "stdout",
          "text": [
            "92 is the maximum value and is found at index: 5\n",
            "45 is the minimum value and its count is: 2\n",
            "Type of 'scores': <class 'tuple'>\n",
            "List after reversing the tuple: (45, 58, 92, 89, 45.4, 76, 89.5, 45)\n",
            "Type of 'scores' after conversion: <class 'tuple'>\n",
            "Enter a number: 58\n",
            "58 is present in the tuple at index (after reverse): 1\n"
          ]
        }
      ]
    },
    {
      "cell_type": "markdown",
      "source": [
        "A2.Q3\n"
      ],
      "metadata": {
        "id": "cT4sTLEidDsM"
      }
    },
    {
      "cell_type": "code",
      "source": [
        "import random\n",
        "\n",
        "L_odd = []\n",
        "L_even = []\n",
        "L_prime = []\n",
        "L_original = random.sample(range(100, 900), 100)\n",
        "\n",
        "print(f\"L_original: {L_original}\")\n",
        "print(\"\\n\")\n",
        "print(f\"Length of list: {len(L_original)}\")\n",
        "print(\"\\n\")\n",
        "\n",
        "for i in L_original:\n",
        "    if i % 2 == 0:\n",
        "        L_even.append(i)\n",
        "    else:\n",
        "        L_odd.append(i)\n",
        "\n",
        "print(f\"List of even numbers: {L_even}\")\n",
        "print(\"\\n\")\n",
        "print(f\"List of odd numbers: {L_odd}\")\n",
        "print(\"\\n\")\n",
        "\n",
        "for n in L_original:\n",
        "    if n > 1:\n",
        "        is_prime = True\n",
        "        for i in range(2, int(n**0.5) + 1):\n",
        "            if n % i == 0:\n",
        "                is_prime = False\n",
        "                break\n",
        "        if is_prime:\n",
        "            L_prime.append(n)\n",
        "\n",
        "print(f\"List of prime numbers: {L_prime}\")\n",
        "print(\"\\n\")"
      ],
      "metadata": {
        "colab": {
          "base_uri": "https://localhost:8080/"
        },
        "id": "TGANmiqQdHuX",
        "outputId": "ef505f7f-fc72-41d3-94a6-366bc4e6076f"
      },
      "execution_count": null,
      "outputs": [
        {
          "output_type": "stream",
          "name": "stdout",
          "text": [
            "L_original: [849, 183, 773, 725, 197, 508, 440, 759, 574, 267, 825, 336, 201, 631, 729, 623, 588, 352, 346, 777, 218, 833, 658, 786, 738, 293, 351, 754, 613, 245, 382, 482, 664, 260, 297, 779, 787, 712, 798, 548, 326, 573, 339, 843, 809, 864, 819, 660, 100, 741, 203, 805, 202, 317, 804, 358, 425, 427, 348, 177, 722, 750, 579, 752, 531, 735, 839, 457, 374, 818, 193, 544, 307, 815, 842, 620, 366, 507, 385, 287, 761, 541, 439, 897, 391, 445, 332, 350, 650, 669, 281, 331, 602, 792, 867, 252, 659, 894, 814, 621]\n",
            "\n",
            "\n",
            "Length of list: 100\n",
            "\n",
            "\n",
            "List of even numbers: [508, 440, 574, 336, 588, 352, 346, 218, 658, 786, 738, 754, 382, 482, 664, 260, 712, 798, 548, 326, 864, 660, 100, 202, 804, 358, 348, 722, 750, 752, 374, 818, 544, 842, 620, 366, 332, 350, 650, 602, 792, 252, 894, 814]\n",
            "\n",
            "\n",
            "List of odd numbers: [849, 183, 773, 725, 197, 759, 267, 825, 201, 631, 729, 623, 777, 833, 293, 351, 613, 245, 297, 779, 787, 573, 339, 843, 809, 819, 741, 203, 805, 317, 425, 427, 177, 579, 531, 735, 839, 457, 193, 307, 815, 507, 385, 287, 761, 541, 439, 897, 391, 445, 669, 281, 331, 867, 659, 621]\n",
            "\n",
            "\n",
            "List of prime numbers: [773, 197, 631, 293, 613, 787, 809, 317, 839, 457, 193, 307, 761, 541, 439, 281, 331, 659]\n",
            "\n",
            "\n"
          ]
        }
      ]
    },
    {
      "cell_type": "markdown",
      "source": [
        "A2.Q4"
      ],
      "metadata": {
        "id": "EmOfOoR1dOMI"
      }
    },
    {
      "cell_type": "code",
      "source": [
        "from os import remove\n",
        "A={34,56,78,90}\n",
        "B={78,45,90,23}\n",
        "print(f\"(A v B) :          {A.union(B)}\")\n",
        "print(f\"(A ^ B) :          {A.intersection(B)}\")\n",
        "print(f\"(A - B) :          {A.difference(B)}\")\n",
        "print(f\"(B - A) :          {B.difference(A)}\")\n",
        "print(f\"(A-B) v (B-A) :    {A.symmetric_difference(B)}\")\n",
        "print(f\"A <= B :            {A.issubset(B)}\")\n",
        "print(f\"B >= A :            {B.issuperset(A)}\")\n",
        "x=int(input(\"Enter a number : \"))\n",
        "\n",
        "A.discard(45)\n",
        "if x in A:\n",
        "  A.remove(x)\n",
        "  print(f\"{x} is removed from set A\")\n",
        "else:\n",
        "  print(f\"{x} is not present in set A\")\n",
        "print(A)"
      ],
      "metadata": {
        "colab": {
          "base_uri": "https://localhost:8080/"
        },
        "id": "rmvB7bRrdSGG",
        "outputId": "01039588-3f42-4256-e79e-fbdc730b6a44"
      },
      "execution_count": null,
      "outputs": [
        {
          "output_type": "stream",
          "name": "stdout",
          "text": [
            "(A v B) :          {34, 45, 78, 23, 56, 90}\n",
            "(A ^ B) :          {90, 78}\n",
            "(A - B) :          {56, 34}\n",
            "(B - A) :          {45, 23}\n",
            "(A-B) v (B-A) :    {34, 45, 23, 56}\n",
            "A <= B :            False\n",
            "B >= A :            False\n",
            "Enter a number : 78\n",
            "78 is removed from set A\n",
            "{56, 34, 90}\n"
          ]
        }
      ]
    },
    {
      "cell_type": "markdown",
      "source": [
        "A2.Q5"
      ],
      "metadata": {
        "id": "zMPMozeMdXyL"
      }
    },
    {
      "cell_type": "code",
      "source": [
        "sample_dict={\n",
        "    \"name\":\"Kelly\",\n",
        "    \"age\":25,\n",
        "    \"salary\":8000,\n",
        "    \"city\":\"New York\"\n",
        "}\n",
        "sample_dict[\"location\"]=sample_dict.pop(\"city\")\n",
        "print(sample_dict)"
      ],
      "metadata": {
        "colab": {
          "base_uri": "https://localhost:8080/"
        },
        "id": "LVs9FuRXdcHu",
        "outputId": "d8d6a88e-94a5-468f-e33d-23e61f1ec785"
      },
      "execution_count": null,
      "outputs": [
        {
          "output_type": "stream",
          "name": "stdout",
          "text": [
            "{'name': 'Kelly', 'age': 25, 'salary': 8000, 'location': 'New York'}\n"
          ]
        }
      ]
    }
  ]
}