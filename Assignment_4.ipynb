{
  "nbformat": 4,
  "nbformat_minor": 0,
  "metadata": {
    "colab": {
      "provenance": [],
      "authorship_tag": "ABX9TyMTkynXeirnqZMkbL/6amRV",
      "include_colab_link": true
    },
    "kernelspec": {
      "name": "python3",
      "display_name": "Python 3"
    },
    "language_info": {
      "name": "python"
    }
  },
  "cells": [
    {
      "cell_type": "markdown",
      "metadata": {
        "id": "view-in-github",
        "colab_type": "text"
      },
      "source": [
        "<a href=\"https://colab.research.google.com/github/Bhavya728/Bhavya-UCS420/blob/main/Assignment_4.ipynb\" target=\"_parent\"><img src=\"https://colab.research.google.com/assets/colab-badge.svg\" alt=\"Open In Colab\"/></a>"
      ]
    },
    {
      "cell_type": "markdown",
      "source": [
        "Q.1 Write a program to create a NumPy 1D-array with 5 elements and perform basic operations like: a) Addition of 2 in all the element b) Multiply 3 with all the elements c) Divide every element by 2"
      ],
      "metadata": {
        "id": "zzat2zEURQT8"
      }
    },
    {
      "cell_type": "code",
      "execution_count": null,
      "metadata": {
        "id": "qpG5NB17RIjo"
      },
      "outputs": [],
      "source": []
    },
    {
      "cell_type": "code",
      "source": [
        "import numpy as np\n",
        "\n",
        "a = np.array([0,1,2,3,4])\n",
        "\n",
        "a = a+2\n",
        "print(a)"
      ],
      "metadata": {
        "colab": {
          "base_uri": "https://localhost:8080/"
        },
        "id": "1SGbVwH6RSRU",
        "outputId": "f652bbd1-9799-41a7-b76e-a5f52521dc6e"
      },
      "execution_count": 2,
      "outputs": [
        {
          "output_type": "stream",
          "name": "stdout",
          "text": [
            "[2 3 4 5 6]\n"
          ]
        }
      ]
    },
    {
      "cell_type": "code",
      "source": [
        "# Multiply 3 with all the elements\n",
        "\n",
        "a = a*2\n",
        "print(a)"
      ],
      "metadata": {
        "colab": {
          "base_uri": "https://localhost:8080/"
        },
        "id": "bEAFgPJ9RZrT",
        "outputId": "e784279a-60ca-4bb7-9458-6d05a423036d"
      },
      "execution_count": null,
      "outputs": [
        {
          "output_type": "stream",
          "name": "stdout",
          "text": [
            "[ 4  6  8 10 12]\n"
          ]
        }
      ]
    },
    {
      "cell_type": "code",
      "source": [
        "# Divide every element by 2\n",
        "\n",
        "a = a/2\n",
        "print(a)"
      ],
      "metadata": {
        "colab": {
          "base_uri": "https://localhost:8080/"
        },
        "id": "lK21JqYTRd4h",
        "outputId": "93c2167e-5ce1-4b54-dbd4-25b5b56436fd"
      },
      "execution_count": null,
      "outputs": [
        {
          "output_type": "stream",
          "name": "stdout",
          "text": [
            "[2. 3. 4. 5. 6.]\n"
          ]
        }
      ]
    },
    {
      "cell_type": "markdown",
      "source": [
        "\n",
        "Q.2 Questions on Basic NumPy Array: a) Reverse the NumPy array: arr = np.array([1,2,3,6,4,5]) b) Find the most frequent value and their indice(s) in the following arrays: i. x = np.array([1,2,3,4,5,1,2,1,1,1]) ii. y = np.array([1, 1, 1, 2, 3, 4, 2, 4, 3, 3, ])"
      ],
      "metadata": {
        "id": "LiqJGTztRiZq"
      }
    },
    {
      "cell_type": "code",
      "source": [
        "arr = np.array([1,2,3,6,4,5])\n",
        "print(f\"before reversing the array : \",arr)\n",
        "\n",
        "arr1 = np.flip(arr)\n",
        "print(f\"after reversing the array : \",arr1)"
      ],
      "metadata": {
        "colab": {
          "base_uri": "https://localhost:8080/"
        },
        "id": "pbsF0HsLRlyc",
        "outputId": "7713ef44-f951-4323-e4e3-20c270f6823f"
      },
      "execution_count": null,
      "outputs": [
        {
          "output_type": "stream",
          "name": "stdout",
          "text": [
            "before reversing the array :  [1 2 3 6 4 5]\n",
            "after reversing the array :  [5 4 6 3 2 1]\n"
          ]
        }
      ]
    },
    {
      "cell_type": "code",
      "source": [
        "y = np.array([1,1,1,2,3,4,2,4,3,3])\n",
        "\n",
        "unique,counts = np.unique(y,return_counts=True)\n",
        "\n",
        "most_frequent = np.where(counts==max(counts))\n",
        "print(f\"most frequent occuring element in the array is : \",unique[most_frequent])\n",
        "print(f\"indices where most frequent occuring element exist : \",np.where(y==unique[most_frequent][0]))"
      ],
      "metadata": {
        "colab": {
          "base_uri": "https://localhost:8080/"
        },
        "id": "kUfgdcKsR0ta",
        "outputId": "39e26d92-8b03-4658-dfe9-68f090424097"
      },
      "execution_count": 3,
      "outputs": [
        {
          "output_type": "stream",
          "name": "stdout",
          "text": [
            "most frequent occuring element in the array is :  [1 3]\n",
            "indices where most frequent occuring element exist :  (array([0, 1, 2]),)\n"
          ]
        }
      ]
    },
    {
      "cell_type": "code",
      "source": [
        "x = np.array([1,2,3,4,5,1,2,1,1,1])\n",
        "\n",
        "unique,counts = np.unique(x,return_counts=True)\n",
        "most_frequent = np.where(counts==max(counts))\n",
        "print(f\"most frequent occuring element in the array is : \",unique[most_frequent])\n",
        "print(f\"indices where most frequent occuring element exist : \",np.where(x==unique[most_frequent]))"
      ],
      "metadata": {
        "colab": {
          "base_uri": "https://localhost:8080/"
        },
        "id": "Npd1A8wiSNfz",
        "outputId": "88779f0f-cb62-4c8c-f054-259d9c5c2c2e"
      },
      "execution_count": 4,
      "outputs": [
        {
          "output_type": "stream",
          "name": "stdout",
          "text": [
            "most frequent occuring element in the array is :  [1]\n",
            "indices where most frequent occuring element exist :  (array([0, 5, 7, 8, 9]),)\n"
          ]
        }
      ]
    },
    {
      "cell_type": "markdown",
      "source": [
        "Q.3 For the given 2-D array arr=np.array([10, 20, 30], [40, 50, 60], [70, 80, 90]),\n",
        " access elements using row and column indices as follows: a) Access 1st row,\n",
        "  2nd column b) Access 3rd row, 1st column"
      ],
      "metadata": {
        "id": "dBIRFlBBSeuX"
      }
    },
    {
      "cell_type": "code",
      "source": [
        "\n",
        "arr = np.array([[10,20,30],[40,50,60],[70,80,90]])\n",
        "\n",
        "print(arr[0][1])\n",
        "print(arr[2][0])"
      ],
      "metadata": {
        "colab": {
          "base_uri": "https://localhost:8080/"
        },
        "id": "ugk_6-t1SScO",
        "outputId": "18b5be00-98fd-4a6b-841c-88dfbb06f00c"
      },
      "execution_count": null,
      "outputs": [
        {
          "output_type": "stream",
          "name": "stdout",
          "text": [
            "20\n",
            "70\n"
          ]
        }
      ]
    },
    {
      "cell_type": "markdown",
      "source": [
        "Q.4 Write program to create an 1-D NumPy array named <> with evenly spaced 25 numbers from 10 to 100 using linspace(). Print the dimensions of the array, shape, total elements, the data type of each element and total number of bytes consumed by the array. Find the transpose of this array using reshape() attribute. Can we do the same with T attribute?"
      ],
      "metadata": {
        "id": "1JbBKReSSj5D"
      }
    },
    {
      "cell_type": "code",
      "source": [
        "x = np.linspace(10,100,25)\n",
        "print(x)\n",
        "\n",
        "print(f\"dimension of this array is : \",x.ndim)\n",
        "print(f\"shape of this array is : \",x.shape)\n",
        "print(f\"total elements in this array is : \",np.size(x))\n",
        "print(f\"data type of elements in this array is : \",x.dtype)\n",
        "print(f\"total number of bytes in this array is : \",x.itemsize*x.size)\n",
        "print()\n",
        "\n",
        "\n",
        "print(\"printing transpose of this matrix : \\n\")\n",
        "\n",
        "x_col = x.reshape(25,1)\n",
        "print(x_col)\n",
        "\n",
        "print(x_col.T)"
      ],
      "metadata": {
        "colab": {
          "base_uri": "https://localhost:8080/"
        },
        "id": "9mqmeXzaST3G",
        "outputId": "e1146463-d56e-4ed8-f1c1-f2c33f05e315"
      },
      "execution_count": null,
      "outputs": [
        {
          "output_type": "stream",
          "name": "stdout",
          "text": [
            "[ 10.    13.75  17.5   21.25  25.    28.75  32.5   36.25  40.    43.75\n",
            "  47.5   51.25  55.    58.75  62.5   66.25  70.    73.75  77.5   81.25\n",
            "  85.    88.75  92.5   96.25 100.  ]\n",
            "dimension of this array is :  1\n",
            "shape of this array is :  (25,)\n",
            "total elements in this array is :  25\n",
            "data type of elements in this array is :  float64\n",
            "total number of bytes in this array is :  200\n",
            "\n",
            "printing transpose of this matrix : \n",
            "\n",
            "[[ 10.  ]\n",
            " [ 13.75]\n",
            " [ 17.5 ]\n",
            " [ 21.25]\n",
            " [ 25.  ]\n",
            " [ 28.75]\n",
            " [ 32.5 ]\n",
            " [ 36.25]\n",
            " [ 40.  ]\n",
            " [ 43.75]\n",
            " [ 47.5 ]\n",
            " [ 51.25]\n",
            " [ 55.  ]\n",
            " [ 58.75]\n",
            " [ 62.5 ]\n",
            " [ 66.25]\n",
            " [ 70.  ]\n",
            " [ 73.75]\n",
            " [ 77.5 ]\n",
            " [ 81.25]\n",
            " [ 85.  ]\n",
            " [ 88.75]\n",
            " [ 92.5 ]\n",
            " [ 96.25]\n",
            " [100.  ]]\n",
            "[[ 10.    13.75  17.5   21.25  25.    28.75  32.5   36.25  40.    43.75\n",
            "   47.5   51.25  55.    58.75  62.5   66.25  70.    73.75  77.5   81.25\n",
            "   85.    88.75  92.5   96.25 100.  ]]\n"
          ]
        }
      ]
    },
    {
      "cell_type": "markdown",
      "source": [
        "Q5. Create a 2-D Array of three rows and four columns, named ucs420_<your_name>> with following values – 10, 20, 30, 40, 50, 60, 70, 80, 90, 15, 20, 35. Compute the mean, median, max, min, unique elements. Reshape the array to four rows and three columns and name it as reshaped_ ucs420_<your_name>>. Resize the array to two rows and three columns and name it as resized_ ucs420_<your_name>>."
      ],
      "metadata": {
        "id": "0mm-zWYGTG-m"
      }
    },
    {
      "cell_type": "code",
      "source": [
        "ucs420_bhavya = [[10, 20, 30, 40], [50, 60, 70, 80], [90, 15, 20, 35]]\n",
        "\n",
        "print(\"mean of this array is:\", np.mean(ucs420_bhavya))\n",
        "print(\"median of this array is:\", np.median(ucs420_bhavya))\n",
        "print(\"maximum of this array is:\", np.max(ucs420_bhavya))\n",
        "print(\"minimum of this array is:\", np.min(ucs420_bhavya))\n",
        "print(\"unique elements in this array:\", np.unique(ucs420_bhavya))\n",
        "\n",
        "reshaped_ucs420_bhavya = np.reshape(ucs420_bhavya, (4, 3))\n",
        "print(\"reshaped array:\\n\", reshaped_ucs420_bhavya)\n",
        "\n",
        "resized_ucs420_bhavya= np.resize(ucs420_bhavya, (2, 3))\n",
        "print(\"resized array:\\n\", resized_ucs420_bhavya)"
      ],
      "metadata": {
        "colab": {
          "base_uri": "https://localhost:8080/"
        },
        "id": "GHJfg5OITJzU",
        "outputId": "35196ac7-074d-4a61-a94a-d23298621816"
      },
      "execution_count": null,
      "outputs": [
        {
          "output_type": "stream",
          "name": "stdout",
          "text": [
            "mean of this array is: 43.333333333333336\n",
            "median of this array is: 37.5\n",
            "maximum of this array is: 90\n",
            "minimum of this array is: 10\n",
            "unique elements in this array: [10 15 20 30 35 40 50 60 70 80 90]\n",
            "reshaped array:\n",
            " [[10 20 30]\n",
            " [40 50 60]\n",
            " [70 80 90]\n",
            " [15 20 35]]\n",
            "resized array:\n",
            " [[10 20 30]\n",
            " [40 50 60]]\n"
          ]
        }
      ]
    }
  ]
}