{
  "cells": [
    {
      "cell_type": "markdown",
      "id": "31d9a4c9",
      "metadata": {
        "origin_pos": 0,
        "id": "31d9a4c9"
      },
      "source": [
        "# Using Jupyter Notebooks\n",
        ":label:`sec_jupyter`\n",
        "\n",
        "\n",
        "This section describes how to edit and run the code\n",
        "in each section of this book\n",
        "using the Jupyter Notebook. Make sure you have\n",
        "installed Jupyter and downloaded the\n",
        "code as described in\n",
        ":ref:`chap_installation`.\n",
        "If you want to know more about Jupyter see the excellent tutorial in\n",
        "their [documentation](https://jupyter.readthedocs.io/en/latest/).\n",
        "\n",
        "\n",
        "## Editing and Running the Code Locally\n",
        "\n",
        "Suppose that the local path of the book's code is `xx/yy/d2l-en/`. Use the shell to change the directory to this path (`cd xx/yy/d2l-en`) and run the command `jupyter notebook`. If your browser does not do this automatically, open http://localhost:8888 and you will see the interface of Jupyter and all the folders containing the code of the book, as shown in :numref:`fig_jupyter00`.\n",
        "\n",
        "![The folders containing the code of this book.](https://github.com/d2l-ai/d2l-en-colab/blob/master/img/jupyter00.png?raw=1)\n",
        ":width:`600px`\n",
        ":label:`fig_jupyter00`\n",
        "\n",
        "\n",
        "You can access the notebook files by clicking on the folder displayed on the webpage.\n",
        "They usually have the suffix \".ipynb\".\n",
        "For the sake of brevity, we create a temporary \"test.ipynb\" file.\n",
        "The content displayed after you click it is\n",
        "shown in :numref:`fig_jupyter01`.\n",
        "This notebook includes a markdown cell and a code cell. The content in the markdown cell includes \"This Is a Title\" and \"This is text.\".\n",
        "The code cell contains two lines of Python code.\n",
        "\n",
        "![Markdown and code cells in the \"text.ipynb\" file.](https://github.com/d2l-ai/d2l-en-colab/blob/master/img/jupyter01.png?raw=1)\n",
        ":width:`600px`\n",
        ":label:`fig_jupyter01`\n",
        "\n",
        "\n",
        "Double click on the markdown cell to enter edit mode.\n",
        "Add a new text string \"Hello world.\" at the end of the cell, as shown in :numref:`fig_jupyter02`.\n",
        "\n",
        "![Edit the markdown cell.](https://github.com/d2l-ai/d2l-en-colab/blob/master/img/jupyter02.png?raw=1)\n",
        ":width:`600px`\n",
        ":label:`fig_jupyter02`\n",
        "\n",
        "\n",
        "As demonstrated in :numref:`fig_jupyter03`,\n",
        "click \"Cell\" $\\rightarrow$ \"Run Cells\" in the menu bar to run the edited cell.\n",
        "\n",
        "![Run the cell.](https://github.com/d2l-ai/d2l-en-colab/blob/master/img/jupyter03.png?raw=1)\n",
        ":width:`600px`\n",
        ":label:`fig_jupyter03`\n",
        "\n",
        "After running, the markdown cell is shown in :numref:`fig_jupyter04`.\n",
        "\n",
        "![The markdown cell after running.](https://github.com/d2l-ai/d2l-en-colab/blob/master/img/jupyter04.png?raw=1)\n",
        ":width:`600px`\n",
        ":label:`fig_jupyter04`\n",
        "\n",
        "\n",
        "Next, click on the code cell. Multiply the elements by 2 after the last line of code, as shown in :numref:`fig_jupyter05`.\n",
        "\n",
        "![Edit the code cell.](https://github.com/d2l-ai/d2l-en-colab/blob/master/img/jupyter05.png?raw=1)\n",
        ":width:`600px`\n",
        ":label:`fig_jupyter05`\n",
        "\n",
        "\n",
        "You can also run the cell with a shortcut (\"Ctrl + Enter\" by default) and obtain the output result from :numref:`fig_jupyter06`.\n",
        "\n",
        "![Run the code cell to obtain the output.](https://github.com/d2l-ai/d2l-en-colab/blob/master/img/jupyter06.png?raw=1)\n",
        ":width:`600px`\n",
        ":label:`fig_jupyter06`\n",
        "\n",
        "\n",
        "When a notebook contains more cells, we can click \"Kernel\" $\\rightarrow$ \"Restart & Run All\" in the menu bar to run all the cells in the entire notebook. By clicking \"Help\" $\\rightarrow$ \"Edit Keyboard Shortcuts\" in the menu bar, you can edit the shortcuts according to your preferences.\n",
        "\n",
        "## Advanced Options\n",
        "\n",
        "Beyond local editing two things are quite important: editing the notebooks in the markdown format and running Jupyter remotely.\n",
        "The latter matters when we want to run the code on a faster server.\n",
        "The former matters since Jupyter's native ipynb format stores a lot of auxiliary data that is\n",
        "irrelevant to the content,\n",
        "mostly related to how and where the code is run.\n",
        "This is confusing for Git, making\n",
        "reviewing contributions very difficult.\n",
        "Fortunately there is an alternative---native editing in the markdown format.\n",
        "\n",
        "### Markdown Files in Jupyter\n",
        "\n",
        "If you wish to contribute to the content of this book, you need to modify the\n",
        "source file (md file, not ipynb file) on GitHub.\n",
        "Using the notedown plugin we\n",
        "can modify notebooks in the md format directly in Jupyter.\n",
        "\n",
        "\n",
        "First, install the notedown plugin, run the Jupyter Notebook, and load the plugin:\n",
        "\n",
        "```\n",
        "pip install d2l-notedown  # You may need to uninstall the original notedown.\n",
        "jupyter notebook --NotebookApp.contents_manager_class='notedown.NotedownContentsManager'\n",
        "```\n",
        "\n",
        "You may also turn on the notedown plugin by default whenever you run the Jupyter Notebook.\n",
        "First, generate a Jupyter Notebook configuration file (if it has already been generated, you can skip this step).\n",
        "\n",
        "```\n",
        "jupyter notebook --generate-config\n",
        "```\n",
        "\n",
        "Then, add the following line to the end of the Jupyter Notebook configuration file (for Linux or macOS, usually in the path `~/.jupyter/jupyter_notebook_config.py`):\n",
        "\n",
        "```\n",
        "c.NotebookApp.contents_manager_class = 'notedown.NotedownContentsManager'\n",
        "```\n",
        "\n",
        "After that, you only need to run the `jupyter notebook` command to turn on the notedown plugin by default.\n",
        "\n",
        "### Running Jupyter Notebooks on a Remote Server\n",
        "\n",
        "Sometimes, you may want to run Jupyter notebooks on a remote server and access it through a browser on your local computer. If Linux or macOS is installed on your local machine (Windows can also support this function through third-party software such as PuTTY), you can use port forwarding:\n",
        "\n",
        "```\n",
        "ssh myserver -L 8888:localhost:8888\n",
        "```\n",
        "\n",
        "The above string `myserver` is the address of the remote server.\n",
        "Then we can use http://localhost:8888 to access the remote server `myserver` that runs Jupyter notebooks. We will detail on how to run Jupyter notebooks on AWS instances\n",
        "later in this appendix.\n",
        "\n",
        "### Timing\n",
        "\n",
        "We can use the `ExecuteTime` plugin to time the execution of each code cell in Jupyter notebooks.\n",
        "Use the following commands to install the plugin:\n",
        "\n",
        "```\n",
        "pip install jupyter_contrib_nbextensions\n",
        "jupyter contrib nbextension install --user\n",
        "jupyter nbextension enable execute_time/ExecuteTime\n",
        "```\n",
        "\n",
        "## Summary\n",
        "\n",
        "* Using the Jupyter Notebook tool, we can edit, run, and contribute to each section of the book.\n",
        "* We can run Jupyter notebooks on remote servers using port forwarding.\n",
        "\n",
        "\n",
        "## Exercises\n",
        "\n",
        "1. Edit and run the code in this book with the Jupyter Notebook on your local machine.\n",
        "1. Edit and run the code in this book with the Jupyter Notebook *remotely* via port forwarding.\n",
        "1. Compare the running time of the operations $\\mathbf{A}^\\top \\mathbf{B}$ and $\\mathbf{A} \\mathbf{B}$ for two square matrices in $\\mathbb{R}^{1024 \\times 1024}$. Which one is faster?\n",
        "\n",
        "\n",
        "[Discussions](https://discuss.d2l.ai/t/421)\n"
      ]
    },
    {
      "cell_type": "code",
      "source": [],
      "metadata": {
        "id": "MuuZCUk-Wf4w"
      },
      "id": "MuuZCUk-Wf4w",
      "execution_count": null,
      "outputs": []
    },
    {
      "cell_type": "markdown",
      "source": [
        "A1.Q1"
      ],
      "metadata": {
        "id": "mucyps7hZ6we"
      },
      "id": "mucyps7hZ6we"
    },
    {
      "cell_type": "code",
      "source": [
        "list=[10,20,30,40,50,60,70,80]\n",
        "list.append(200)\n",
        "list.append(300)\n",
        "print(list)\n",
        "list.remove(10)\n",
        "list.remove(30)\n",
        "print(list)\n",
        "list.sort()\n",
        "print(list)\n",
        "list.sort(reverse=True)\n",
        "print(list)"
      ],
      "metadata": {
        "id": "t3BDJbjpaBkJ",
        "outputId": "80816203-4b3e-4c3d-fdf1-7a6c61c2ab7f",
        "colab": {
          "base_uri": "https://localhost:8080/"
        }
      },
      "id": "t3BDJbjpaBkJ",
      "execution_count": 7,
      "outputs": [
        {
          "output_type": "stream",
          "name": "stdout",
          "text": [
            "[10, 20, 30, 40, 50, 60, 70, 80, 200, 300]\n",
            "[20, 40, 50, 60, 70, 80, 200, 300]\n",
            "[20, 40, 50, 60, 70, 80, 200, 300]\n",
            "[300, 200, 80, 70, 60, 50, 40, 20]\n"
          ]
        }
      ]
    },
    {
      "cell_type": "markdown",
      "source": [
        "A2.Q2"
      ],
      "metadata": {
        "id": "_zMFDUifWjNu"
      },
      "id": "_zMFDUifWjNu"
    },
    {
      "cell_type": "code",
      "source": [
        "scores=(45,89.5,76,45.4,89,92,58,45)\n",
        "a=max(scores)\n",
        "print(f\"{a} is maximum and found at index : {scores.index(a)}\")\n",
        "b=min(scores)\n",
        "print(f\"{b} is minimum and it's count is : {scores.count(b)}\")\n",
        "print(type(scores))\n",
        "scores=list(reversed(scores))\n",
        "print(\"list after reversing tuple : \",scores)\n",
        "print(type(scores))\n",
        "scores=tuple(scores)\n",
        "c=int(input(\"Enter a number : \"))\n",
        "if c in scores:\n",
        "    print(f\"{c} is present in the tuple at index (after previous reverse operation): {scores.index(c)}\")\n",
        "else:\n",
        "    print(f\"{c} is not present in the tuple\")"
      ],
      "metadata": {
        "id": "RDmdK7UIW8wM",
        "outputId": "9fb23555-b922-4a37-8925-54023d4a14c1",
        "colab": {
          "base_uri": "https://localhost:8080/"
        }
      },
      "id": "RDmdK7UIW8wM",
      "execution_count": 2,
      "outputs": [
        {
          "output_type": "stream",
          "name": "stdout",
          "text": [
            "92 is maximum and found at index : 5\n",
            "45 is minimum and it's count is : 2\n",
            "<class 'tuple'>\n",
            "list after reversing tuple :  [45, 58, 92, 89, 45.4, 76, 89.5, 45]\n",
            "<class 'list'>\n",
            "Enter a number : 58\n",
            "58 is present in the tuple at index (after previous reverse operation): 1\n"
          ]
        }
      ]
    },
    {
      "cell_type": "markdown",
      "source": [
        "A2.Q3"
      ],
      "metadata": {
        "id": "nlbHVvwUXmke"
      },
      "id": "nlbHVvwUXmke"
    },
    {
      "cell_type": "code",
      "source": [
        "import random\n",
        "\n",
        "L_odd = []\n",
        "L_even = []\n",
        "L_prime = []\n",
        "L_original = random.sample(range(100, 900), 100)\n",
        "\n",
        "print(f\"L_original: {L_original}\")\n",
        "print(\"\\n\")\n",
        "print(f\"Length of list: {len(L_original)}\")\n",
        "print(\"\\n\")\n",
        "\n",
        "for i in L_original:\n",
        "    if i % 2 == 0:\n",
        "        L_even.append(i)\n",
        "    else:\n",
        "        L_odd.append(i)\n",
        "\n",
        "print(f\"List of even numbers: {L_even}\")\n",
        "print(\"\\n\")\n",
        "print(f\"List of odd numbers: {L_odd}\")\n",
        "print(\"\\n\")\n",
        "\n",
        "for n in L_original:\n",
        "    if n > 1:\n",
        "        is_prime = True\n",
        "        for i in range(2, int(n**0.5) + 1):\n",
        "            if n % i == 0:\n",
        "                is_prime = False\n",
        "                break\n",
        "        if is_prime:\n",
        "            L_prime.append(n)\n",
        "\n",
        "print(f\"List of prime numbers: {L_prime}\")\n",
        "print(\"\\n\")\n"
      ],
      "metadata": {
        "id": "G4-UKa0IXoy8",
        "outputId": "58630ee8-1877-433a-fe97-351512c70da6",
        "colab": {
          "base_uri": "https://localhost:8080/"
        }
      },
      "id": "G4-UKa0IXoy8",
      "execution_count": 4,
      "outputs": [
        {
          "output_type": "stream",
          "name": "stdout",
          "text": [
            "L_original: [839, 721, 362, 243, 565, 291, 207, 447, 479, 458, 385, 466, 302, 120, 666, 237, 550, 792, 133, 336, 440, 189, 460, 411, 751, 568, 603, 398, 710, 254, 561, 584, 786, 793, 542, 787, 395, 557, 549, 499, 707, 308, 185, 608, 671, 400, 348, 403, 485, 305, 186, 592, 830, 167, 142, 828, 804, 274, 278, 155, 333, 373, 256, 835, 497, 898, 407, 360, 122, 393, 359, 190, 759, 356, 510, 791, 679, 861, 233, 761, 773, 109, 161, 321, 494, 864, 480, 378, 713, 581, 692, 809, 288, 702, 478, 683, 704, 785, 179, 641]\n",
            "\n",
            "\n",
            "Length of list: 100\n",
            "\n",
            "\n",
            "List of even numbers: [362, 458, 466, 302, 120, 666, 550, 792, 336, 440, 460, 568, 398, 710, 254, 584, 786, 542, 308, 608, 400, 348, 186, 592, 830, 142, 828, 804, 274, 278, 256, 898, 360, 122, 190, 356, 510, 494, 864, 480, 378, 692, 288, 702, 478, 704]\n",
            "\n",
            "\n",
            "List of odd numbers: [839, 721, 243, 565, 291, 207, 447, 479, 385, 237, 133, 189, 411, 751, 603, 561, 793, 787, 395, 557, 549, 499, 707, 185, 671, 403, 485, 305, 167, 155, 333, 373, 835, 497, 407, 393, 359, 759, 791, 679, 861, 233, 761, 773, 109, 161, 321, 713, 581, 809, 683, 785, 179, 641]\n",
            "\n",
            "\n",
            "List of prime numbers: [839, 479, 751, 787, 557, 499, 167, 373, 359, 233, 761, 773, 109, 809, 683, 179, 641]\n",
            "\n",
            "\n"
          ]
        }
      ]
    },
    {
      "cell_type": "markdown",
      "source": [
        "A2.Q4"
      ],
      "metadata": {
        "id": "oFxMiTtMZHjR"
      },
      "id": "oFxMiTtMZHjR"
    },
    {
      "cell_type": "code",
      "source": [
        "from os import remove\n",
        "A={34,56,78,90}\n",
        "B={78,45,90,23}\n",
        "print(f\"(A v B) :          {A.union(B)}\")\n",
        "print(f\"(A ^ B) :          {A.intersection(B)}\")\n",
        "print(f\"(A - B) :          {A.difference(B)}\")\n",
        "print(f\"(B - A) :          {B.difference(A)}\")\n",
        "print(f\"(A-B) v (B-A) :    {A.symmetric_difference(B)}\")\n",
        "print(f\"A <= B :            {A.issubset(B)}\")\n",
        "print(f\"B >= A :            {B.issuperset(A)}\")\n",
        "x=int(input(\"Enter a number : \"))\n",
        "\n",
        "A.discard(45)\n",
        "if x in A:\n",
        "  A.remove(x)\n",
        "  print(f\"{x} is removed from set A\")\n",
        "else:\n",
        "  print(f\"{x} is not present in set A\")\n",
        "print(A)"
      ],
      "metadata": {
        "id": "iF7O3jzAZJpi",
        "outputId": "621d8345-8e97-499a-c040-0c312a937c81",
        "colab": {
          "base_uri": "https://localhost:8080/"
        }
      },
      "id": "iF7O3jzAZJpi",
      "execution_count": 5,
      "outputs": [
        {
          "output_type": "stream",
          "name": "stdout",
          "text": [
            "(A v B) :          {34, 45, 78, 23, 56, 90}\n",
            "(A ^ B) :          {90, 78}\n",
            "(A - B) :          {56, 34}\n",
            "(B - A) :          {45, 23}\n",
            "(A-B) v (B-A) :    {34, 45, 23, 56}\n",
            "A <= B :            False\n",
            "B >= A :            False\n",
            "Enter a number : 78\n",
            "78 is removed from set A\n",
            "{56, 34, 90}\n"
          ]
        }
      ]
    },
    {
      "cell_type": "markdown",
      "source": [
        "A2.Q5"
      ],
      "metadata": {
        "id": "YgtC4SplZxZm"
      },
      "id": "YgtC4SplZxZm"
    },
    {
      "cell_type": "code",
      "source": [
        "sample_dict={\n",
        "    \"name\":\"Kelly\",\n",
        "    \"age\":25,\n",
        "    \"salary\":8000,\n",
        "    \"city\":\"New York\"\n",
        "}\n",
        "sample_dict[\"location\"]=sample_dict.pop(\"city\")\n",
        "print(sample_dict)"
      ],
      "metadata": {
        "id": "yYwSR4xaZzGI",
        "outputId": "4e6fbf22-b4bc-4315-f996-b4f9b17b8ae6",
        "colab": {
          "base_uri": "https://localhost:8080/"
        }
      },
      "id": "yYwSR4xaZzGI",
      "execution_count": 6,
      "outputs": [
        {
          "output_type": "stream",
          "name": "stdout",
          "text": [
            "{'name': 'Kelly', 'age': 25, 'salary': 8000, 'location': 'New York'}\n"
          ]
        }
      ]
    }
  ],
  "metadata": {
    "kernelspec": {
      "display_name": "Python 3",
      "name": "python3"
    },
    "language_info": {
      "name": "python"
    },
    "required_libs": [],
    "colab": {
      "provenance": []
    }
  },
  "nbformat": 4,
  "nbformat_minor": 5
}