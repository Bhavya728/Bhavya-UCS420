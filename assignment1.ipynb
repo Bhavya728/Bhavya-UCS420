{
  "nbformat": 4,
  "nbformat_minor": 0,
  "metadata": {
    "colab": {
      "provenance": [],
      "authorship_tag": "ABX9TyPcgyspZ0TdngE3DG4shK+O",
      "include_colab_link": true
    },
    "kernelspec": {
      "name": "python3",
      "display_name": "Python 3"
    },
    "language_info": {
      "name": "python"
    }
  },
  "cells": [
    {
      "cell_type": "markdown",
      "metadata": {
        "id": "view-in-github",
        "colab_type": "text"
      },
      "source": [
        "<a href=\"https://colab.research.google.com/github/Bhavya728/Bhavya-UCS420/blob/main/assignment1.ipynb\" target=\"_parent\"><img src=\"https://colab.research.google.com/assets/colab-badge.svg\" alt=\"Open In Colab\"/></a>"
      ]
    },
    {
      "cell_type": "code",
      "execution_count": null,
      "metadata": {
        "id": "34TQ5I2qf18A"
      },
      "outputs": [],
      "source": []
    },
    {
      "cell_type": "markdown",
      "source": [
        "A1.Q1"
      ],
      "metadata": {
        "id": "BzTvgq5ugPtW"
      }
    },
    {
      "cell_type": "code",
      "source": [
        "for i in range(0,3):\n",
        " print('bhavya')"
      ],
      "metadata": {
        "colab": {
          "base_uri": "https://localhost:8080/"
        },
        "id": "aTE4ltRBgR69",
        "outputId": "6770f4c5-ef13-4ffe-9e8f-7e7635ff80ef"
      },
      "execution_count": 3,
      "outputs": [
        {
          "output_type": "stream",
          "name": "stdout",
          "text": [
            "bhavya\n",
            "bhavya\n",
            "bhavya\n"
          ]
        }
      ]
    },
    {
      "cell_type": "markdown",
      "source": [
        "A2.Q1"
      ],
      "metadata": {
        "id": "5ze4zpaCgxw0"
      }
    },
    {
      "cell_type": "code",
      "source": [
        "a=14\n",
        "b=17\n",
        "c=19\n",
        "result=a+b+c\n",
        "print(f\"summ of {a}+{b}+{c} = {result}\")"
      ],
      "metadata": {
        "colab": {
          "base_uri": "https://localhost:8080/"
        },
        "id": "XPcRMGxCgzMC",
        "outputId": "e1bf6364-33b7-4c9e-efe9-ca516a2e85ff"
      },
      "execution_count": 4,
      "outputs": [
        {
          "output_type": "stream",
          "name": "stdout",
          "text": [
            "summ of 14+17+19 = 50\n"
          ]
        }
      ]
    },
    {
      "cell_type": "markdown",
      "source": [
        "A2.Q2"
      ],
      "metadata": {
        "id": "h7v1bHGTg4AB"
      }
    },
    {
      "cell_type": "code",
      "source": [
        "a=\"hello\"\n",
        "b=\"world\"\n",
        "c=\"!!!\"\n",
        "str=a+\" \"+b+\" \"+c\n",
        "print(f\"combined string is : {str}\")"
      ],
      "metadata": {
        "colab": {
          "base_uri": "https://localhost:8080/"
        },
        "id": "Qn6U49QRg5uW",
        "outputId": "2cb28f19-84ba-462a-b68a-a188a578ea23"
      },
      "execution_count": 5,
      "outputs": [
        {
          "output_type": "stream",
          "name": "stdout",
          "text": [
            "combined string is : hello world !!!\n"
          ]
        }
      ]
    },
    {
      "cell_type": "markdown",
      "source": [
        "A4.Q1"
      ],
      "metadata": {
        "id": "5oebQ7OQhQSn"
      }
    },
    {
      "cell_type": "code",
      "source": [
        "for i in range(1,11):\n",
        "  print(f\"7 * {i} = {7*i} \\t\\t\\t 9 * {i} = {9*i}\")\n"
      ],
      "metadata": {
        "colab": {
          "base_uri": "https://localhost:8080/"
        },
        "id": "-9J5UsLPhiAN",
        "outputId": "92995e71-dc6c-4687-d76f-bf7f454ceffe"
      },
      "execution_count": 6,
      "outputs": [
        {
          "output_type": "stream",
          "name": "stdout",
          "text": [
            "7 * 1 = 7 \t\t\t 9 * 1 = 9\n",
            "7 * 2 = 14 \t\t\t 9 * 2 = 18\n",
            "7 * 3 = 21 \t\t\t 9 * 3 = 27\n",
            "7 * 4 = 28 \t\t\t 9 * 4 = 36\n",
            "7 * 5 = 35 \t\t\t 9 * 5 = 45\n",
            "7 * 6 = 42 \t\t\t 9 * 6 = 54\n",
            "7 * 7 = 49 \t\t\t 9 * 7 = 63\n",
            "7 * 8 = 56 \t\t\t 9 * 8 = 72\n",
            "7 * 9 = 63 \t\t\t 9 * 9 = 81\n",
            "7 * 10 = 70 \t\t\t 9 * 10 = 90\n"
          ]
        }
      ]
    },
    {
      "cell_type": "markdown",
      "source": [
        "A4.Q2"
      ],
      "metadata": {
        "id": "H8pI32T6hzMV"
      }
    },
    {
      "cell_type": "code",
      "source": [
        "a=int(input(\"Enter a number : \"))\n",
        "for i in range(1,11):\n",
        "  print(f\"{a}*{i} = {a*i}\")"
      ],
      "metadata": {
        "colab": {
          "base_uri": "https://localhost:8080/"
        },
        "id": "PkCAB4iVh00w",
        "outputId": "e0e3b182-ce5d-4108-8561-1a7d916af47f"
      },
      "execution_count": 7,
      "outputs": [
        {
          "output_type": "stream",
          "name": "stdout",
          "text": [
            "Enter a number : 5\n",
            "5*1 = 5\n",
            "5*2 = 10\n",
            "5*3 = 15\n",
            "5*4 = 20\n",
            "5*5 = 25\n",
            "5*6 = 30\n",
            "5*7 = 35\n",
            "5*8 = 40\n",
            "5*9 = 45\n",
            "5*10 = 50\n"
          ]
        }
      ]
    },
    {
      "cell_type": "markdown",
      "source": [
        "A4.Q3"
      ],
      "metadata": {
        "id": "P5Dp41n0h_5o"
      }
    },
    {
      "cell_type": "code",
      "source": [
        "n=int(input(\"Enter a number : \"))\n",
        "sum=0\n",
        "for i in range(1,n+1):\n",
        "  sum=sum+i\n",
        "print(f\"Summ of numbers from 1 to {n} is = {sum}\")"
      ],
      "metadata": {
        "colab": {
          "base_uri": "https://localhost:8080/"
        },
        "id": "St8q0s3SiC2Q",
        "outputId": "9753da99-429d-48b4-9008-b20586e3d82a"
      },
      "execution_count": 8,
      "outputs": [
        {
          "output_type": "stream",
          "name": "stdout",
          "text": [
            "Enter a number : 7\n",
            "Summ of numbers from 1 to 7 is = 28\n"
          ]
        }
      ]
    },
    {
      "cell_type": "markdown",
      "source": [
        "A5"
      ],
      "metadata": {
        "id": "xJk-0ZDsiL52"
      }
    },
    {
      "cell_type": "code",
      "source": [
        "a=int(input(\"Enter 1st num : \"))\n",
        "b=int(input(\"Enter 2nd num : \"))\n",
        "c=int(input(\"Enter 3rd num : \"))\n",
        "maximum=max(a,max(b,c))\n",
        "print(f\"maximum value is = {maximum}\")"
      ],
      "metadata": {
        "colab": {
          "base_uri": "https://localhost:8080/"
        },
        "id": "IsuOY-ZfiNX4",
        "outputId": "6adfc9f1-b68e-4897-89df-18e09991e2cc"
      },
      "execution_count": 9,
      "outputs": [
        {
          "output_type": "stream",
          "name": "stdout",
          "text": [
            "Enter 1st num : 5\n",
            "Enter 2nd num : 7\n",
            "Enter 3rd num : 3\n",
            "maximum value is = 7\n"
          ]
        }
      ]
    },
    {
      "cell_type": "code",
      "source": [
        "n=int(input(\"Enter a number : \"))\n",
        "for i in range(1,n):\n",
        "  if i%7==0 and i%9==0:\n",
        "    print(f\"{i} is divisible by both 7 and 9\")"
      ],
      "metadata": {
        "colab": {
          "base_uri": "https://localhost:8080/"
        },
        "id": "Cla4351viZNn",
        "outputId": "6ec11764-4b59-4f7d-9707-433db25617ce"
      },
      "execution_count": 11,
      "outputs": [
        {
          "output_type": "stream",
          "name": "stdout",
          "text": [
            "Enter a number : 100\n",
            "63 is divisible by both 7 and 9\n"
          ]
        }
      ]
    },
    {
      "cell_type": "code",
      "source": [
        "n=int(input('Enter a number'))\n",
        "sum=0\n",
        "for i in range(2,n+1):\n",
        "  flag=True\n",
        "  for j in range(2,i):\n",
        "    if i%j==0:\n",
        "      flag=False\n",
        "  if flag:\n",
        "    sum+=i\n",
        "print('Sum of primes=',sum)"
      ],
      "metadata": {
        "colab": {
          "base_uri": "https://localhost:8080/"
        },
        "id": "ZUq0H_p_jFgv",
        "outputId": "7ba55f87-850c-4a40-ffa7-c0b8d4215ad6"
      },
      "execution_count": 12,
      "outputs": [
        {
          "output_type": "stream",
          "name": "stdout",
          "text": [
            "Enter a number85\n",
            "Sum of primes= 874\n"
          ]
        }
      ]
    },
    {
      "cell_type": "markdown",
      "source": [
        "A6"
      ],
      "metadata": {
        "id": "auCgq4G2jLN0"
      }
    },
    {
      "cell_type": "code",
      "source": [
        "def addOdd(n):\n",
        "  sum=0\n",
        "  for i in range(1,n+1):\n",
        "    if i%2!=0:\n",
        "      sum+=i\n",
        "  return sum\n",
        "n=int(input('Enter a number'))\n",
        "print('Sum of odd numbers',addOdd(n))"
      ],
      "metadata": {
        "colab": {
          "base_uri": "https://localhost:8080/"
        },
        "id": "85A6BfIUjMRH",
        "outputId": "ce75e1ce-3e36-40f5-9fd3-338b2d9daecd"
      },
      "execution_count": 13,
      "outputs": [
        {
          "output_type": "stream",
          "name": "stdout",
          "text": [
            "Enter a number7\n",
            "Sum of odd numbers 16\n"
          ]
        }
      ]
    },
    {
      "cell_type": "code",
      "source": [
        "def addPrime(n):\n",
        "  sum=0\n",
        "  for i in range(2,n+1):\n",
        "    flag=True\n",
        "    for j in range(2,i):\n",
        "     if i%j==0:\n",
        "      flag=False\n",
        "    if flag:\n",
        "      sum+=i\n",
        "  return sum\n",
        "n=int(input('Enter a number'))\n",
        "print('Sum of primes=',addPrime(n))"
      ],
      "metadata": {
        "colab": {
          "base_uri": "https://localhost:8080/"
        },
        "id": "gsmXOEArjXO5",
        "outputId": "ffbdf478-04d5-42c4-cbe7-64c22c32d851"
      },
      "execution_count": 14,
      "outputs": [
        {
          "output_type": "stream",
          "name": "stdout",
          "text": [
            "Enter a number50\n",
            "Sum of primes= 328\n"
          ]
        }
      ]
    },
    {
      "cell_type": "markdown",
      "source": [],
      "metadata": {
        "id": "IiE4rO-RjSy0"
      }
    },
    {
      "cell_type": "code",
      "source": [],
      "metadata": {
        "id": "W38r4vB8jKg3"
      },
      "execution_count": null,
      "outputs": []
    }
  ]
}