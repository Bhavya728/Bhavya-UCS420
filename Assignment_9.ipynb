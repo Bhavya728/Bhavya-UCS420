{
  "nbformat": 4,
  "nbformat_minor": 0,
  "metadata": {
    "colab": {
      "provenance": [],
      "authorship_tag": "ABX9TyONv677DcywmOrT6F/Qn5rL",
      "include_colab_link": true
    },
    "kernelspec": {
      "name": "python3",
      "display_name": "Python 3"
    },
    "language_info": {
      "name": "python"
    }
  },
  "cells": [
    {
      "cell_type": "markdown",
      "metadata": {
        "id": "view-in-github",
        "colab_type": "text"
      },
      "source": [
        "<a href=\"https://colab.research.google.com/github/Bhavya728/Bhavya-UCS420/blob/main/Assignment_9.ipynb\" target=\"_parent\"><img src=\"https://colab.research.google.com/assets/colab-badge.svg\" alt=\"Open In Colab\"/></a>"
      ]
    },
    {
      "cell_type": "markdown",
      "source": [
        "Q.1 Write a unique paragraph (5-6 sentences) about your favorite topic (e.g., sports, technology, food, books, etc.).\n",
        "Convert text to lowercase and remove punctuation.\n",
        "Tokenize the text into words and sentences.\n",
        "Remove stopwords (using NLTK's stopwords list).\n",
        "Display word frequency distribution (excluding stopwords).\n",
        "\n"
      ],
      "metadata": {
        "id": "uh7IG1-zXbG9"
      }
    },
    {
      "cell_type": "code",
      "execution_count": 3,
      "metadata": {
        "colab": {
          "base_uri": "https://localhost:8080/"
        },
        "id": "hPRhomKqXYwR",
        "outputId": "35892a1b-77eb-4cce-9f4b-8487ca7f68ed"
      },
      "outputs": [
        {
          "output_type": "stream",
          "name": "stderr",
          "text": [
            "[nltk_data] Downloading package punkt_tab to /root/nltk_data...\n",
            "[nltk_data]   Unzipping tokenizers/punkt_tab.zip.\n"
          ]
        },
        {
          "output_type": "stream",
          "name": "stdout",
          "text": [
            "['\\nBooks have always been a gateway to new worlds, offering an escape from the everyday and providing a space for deep reflection.', \"Whether it's fiction or non-fiction, the written word has a way of drawing readers into its pages, sparking imagination and offering new perspectives.\", 'Reading allows people to experience other cultures, ideas, and emotions, fostering empathy and understanding.', 'In an age dominated by technology, books still hold a special place, providing a break from the digital noise.', 'The power of storytelling in books is timeless, and their impact on society is undeniable.']\n",
            "\n",
            "\n",
            "books have always been a gateway to new worlds offering an escape from the everyday and providing a space for deep reflection\n",
            "whether its fiction or nonfiction the written word has a way of drawing readers into its pages sparking imagination and offering new perspectives\n",
            "reading allows people to experience other cultures ideas and emotions fostering empathy and understanding\n",
            "in an age dominated by technology books still hold a special place providing a break from the digital noise\n",
            "the power of storytelling in books is timeless and their impact on society is undeniable\n",
            "\n",
            "['books', 'have', 'always', 'been', 'a', 'gateway', 'to', 'new', 'worlds', 'offering', 'an', 'escape', 'from', 'the', 'everyday', 'and', 'providing', 'a', 'space', 'for', 'deep', 'reflection', 'whether', 'its', 'fiction', 'or', 'nonfiction', 'the', 'written', 'word', 'has', 'a', 'way', 'of', 'drawing', 'readers', 'into', 'its', 'pages', 'sparking', 'imagination', 'and', 'offering', 'new', 'perspectives', 'reading', 'allows', 'people', 'to', 'experience', 'other', 'cultures', 'ideas', 'and', 'emotions', 'fostering', 'empathy', 'and', 'understanding', 'in', 'an', 'age', 'dominated', 'by', 'technology', 'books', 'still', 'hold', 'a', 'special', 'place', 'providing', 'a', 'break', 'from', 'the', 'digital', 'noise', 'the', 'power', 'of', 'storytelling', 'in', 'books', 'is', 'timeless', 'and', 'their', 'impact', 'on', 'society', 'is', 'undeniable']\n",
            "\n",
            "['\\nbooks have always been a gateway to new worlds offering an escape from the everyday and providing a space for deep reflection\\nwhether its fiction or nonfiction the written word has a way of drawing readers into its pages sparking imagination and offering new perspectives\\nreading allows people to experience other cultures ideas and emotions fostering empathy and understanding\\nin an age dominated by technology books still hold a special place providing a break from the digital noise\\nthe power of storytelling in books is timeless and their impact on society is undeniable']\n",
            "\n",
            "Word Frequency Distribution: \n",
            "books: 3\n",
            "always: 1\n",
            "gateway: 1\n",
            "new: 2\n",
            "worlds: 1\n",
            "offering: 2\n",
            "escape: 1\n",
            "everyday: 1\n",
            "providing: 2\n",
            "space: 1\n",
            "deep: 1\n",
            "reflection: 1\n",
            "whether: 1\n",
            "fiction: 1\n",
            "nonfiction: 1\n",
            "written: 1\n",
            "word: 1\n",
            "way: 1\n",
            "drawing: 1\n",
            "readers: 1\n",
            "pages: 1\n",
            "sparking: 1\n",
            "imagination: 1\n",
            "perspectives: 1\n",
            "reading: 1\n",
            "allows: 1\n",
            "people: 1\n",
            "experience: 1\n",
            "cultures: 1\n",
            "ideas: 1\n",
            "emotions: 1\n",
            "fostering: 1\n",
            "empathy: 1\n",
            "understanding: 1\n",
            "age: 1\n",
            "dominated: 1\n",
            "technology: 1\n",
            "still: 1\n",
            "hold: 1\n",
            "special: 1\n",
            "place: 1\n",
            "break: 1\n",
            "digital: 1\n",
            "noise: 1\n",
            "power: 1\n",
            "storytelling: 1\n",
            "timeless: 1\n",
            "impact: 1\n",
            "society: 1\n",
            "undeniable: 1\n"
          ]
        },
        {
          "output_type": "stream",
          "name": "stderr",
          "text": [
            "[nltk_data] Downloading package stopwords to /root/nltk_data...\n",
            "[nltk_data]   Package stopwords is already up-to-date!\n"
          ]
        }
      ],
      "source": [
        "import string\n",
        "import nltk\n",
        "from nltk.tokenize import word_tokenize, sent_tokenize\n",
        "from nltk.corpus import stopwords\n",
        "from collections import Counter\n",
        "\n",
        "nltk.download('punkt_tab')\n",
        "nltk.download('stopwords')\n",
        "\n",
        "text = \"\"\"\n",
        "Books have always been a gateway to new worlds, offering an escape from the everyday and providing a space for deep reflection.\n",
        "Whether it's fiction or non-fiction, the written word has a way of drawing readers into its pages, sparking imagination and offering new perspectives.\n",
        "Reading allows people to experience other cultures, ideas, and emotions, fostering empathy and understanding.\n",
        "In an age dominated by technology, books still hold a special place, providing a break from the digital noise.\n",
        "The power of storytelling in books is timeless, and their impact on society is undeniable.\n",
        "\"\"\"\n",
        "\n",
        "#sentence tokenization before removing punctuation\n",
        "sentences = sent_tokenize(text)\n",
        "print(sentences)\n",
        "print()\n",
        "\n",
        "lowered_text = text.lower()\n",
        "text = ''.join([char for char in lowered_text if char not in string.punctuation])\n",
        "print(text)\n",
        "\n",
        "words = word_tokenize(text)\n",
        "print(words)\n",
        "print()\n",
        "\n",
        "sentences = sent_tokenize(text)\n",
        "print(sentences)\n",
        "print()\n",
        "\n",
        "stop_words = set(stopwords.words(\"english\"))\n",
        "filtered_words = [word for word in words if word not in stop_words]\n",
        "word_freq = Counter(filtered_words)\n",
        "print(\"Word Frequency Distribution: \")\n",
        "for word, freq in word_freq.items():\n",
        "  print(f\"{word}: {freq}\")\n"
      ]
    },
    {
      "cell_type": "markdown",
      "source": [
        "Q.2 Stemming and Lemmatization\n",
        "\n",
        "Take the tokenized words from Question 1 (after stopword removal).\n",
        "Apply stemming using NLTK's PorterStemmer and LancasterStemmer.\n",
        "Apply lemmatization using NLTK's WordNetLemmatizer.\n",
        "Compare and display results of both techniques."
      ],
      "metadata": {
        "id": "GUCziqffaRhx"
      }
    },
    {
      "cell_type": "code",
      "source": [
        "from nltk.stem import PorterStemmer, LancasterStemmer\n",
        "from nltk.stem import WordNetLemmatizer\n",
        "nltk.download('wordnet')\n",
        "ps = PorterStemmer()\n",
        "ls = LancasterStemmer()\n",
        "for w in filtered_words:\n",
        "  print(w,\":\",ps.stem(w),\",\", ls.stem(w))\n",
        "\n",
        "print()\n",
        "\n",
        "lemmatizer=WordNetLemmatizer()\n",
        "for w in filtered_words:\n",
        "  print(w,\":\",lemmatizer.lemmatize(w))\n",
        "\n"
      ],
      "metadata": {
        "colab": {
          "base_uri": "https://localhost:8080/"
        },
        "id": "B2bCDt4XalNQ",
        "outputId": "04747307-809d-411a-fd9c-bf9d62ab2e9f"
      },
      "execution_count": 5,
      "outputs": [
        {
          "output_type": "stream",
          "name": "stderr",
          "text": [
            "[nltk_data] Downloading package wordnet to /root/nltk_data...\n"
          ]
        },
        {
          "output_type": "stream",
          "name": "stdout",
          "text": [
            "vastness : vast , vast\n",
            "space : space , spac\n",
            "always : alway , alway\n",
            "fascinated : fascin , fascin\n",
            "humanity : human , hum\n",
            "exploring : explor , expl\n",
            "distant : distant , dist\n",
            "galaxies : galaxi , galaxy\n",
            "discovering : discov , discov\n",
            "exoplanets : exoplanet , exoplanet\n",
            "searching : search , search\n",
            "extraterrestrial : extraterrestri , extraterrest\n",
            "life : life , lif\n",
            "drive : drive , driv\n",
            "scientific : scientif , sci\n",
            "progress : progress , progress\n",
            "missions : mission , miss\n",
            "like : like , lik\n",
            "james : jame , jam\n",
            "webb : webb , web\n",
            "telescope : telescop , telescop\n",
            "reveal : reveal , rev\n",
            "stunning : stun , stun\n",
            "cosmic : cosmic , cosm\n",
            "phenomena : phenomena , phenomen\n",
            "mars : mar , mar\n",
            "rovers : rover , rov\n",
            "hunt : hunt , hunt\n",
            "signs : sign , sign\n",
            "ancient : ancient , ant\n",
            "life : life , lif\n",
            "private : privat , priv\n",
            "companies : compani , company\n",
            "like : like , lik\n",
            "spacex : spacex , spacex\n",
            "aim : aim , aim\n",
            "make : make , mak\n",
            "interstellar : interstellar , interstell\n",
            "travel : travel , travel\n",
            "reality : realiti , real\n",
            "every : everi , every\n",
            "breakthrough : breakthrough , breakthrough\n",
            "brings : bring , bring\n",
            "us : us , us\n",
            "closer : closer , clos\n",
            "understanding : understand , understand\n",
            "place : place , plac\n",
            "universe : univers , univers\n",
            "\n",
            "vastness : vastness\n",
            "space : space\n",
            "always : always\n",
            "fascinated : fascinated\n",
            "humanity : humanity\n",
            "exploring : exploring\n",
            "distant : distant\n",
            "galaxies : galaxy\n",
            "discovering : discovering\n",
            "exoplanets : exoplanets\n",
            "searching : searching\n",
            "extraterrestrial : extraterrestrial\n",
            "life : life\n",
            "drive : drive\n",
            "scientific : scientific\n",
            "progress : progress\n",
            "missions : mission\n",
            "like : like\n",
            "james : james\n",
            "webb : webb\n",
            "telescope : telescope\n",
            "reveal : reveal\n",
            "stunning : stunning\n",
            "cosmic : cosmic\n",
            "phenomena : phenomenon\n",
            "mars : mar\n",
            "rovers : rover\n",
            "hunt : hunt\n",
            "signs : sign\n",
            "ancient : ancient\n",
            "life : life\n",
            "private : private\n",
            "companies : company\n",
            "like : like\n",
            "spacex : spacex\n",
            "aim : aim\n",
            "make : make\n",
            "interstellar : interstellar\n",
            "travel : travel\n",
            "reality : reality\n",
            "every : every\n",
            "breakthrough : breakthrough\n",
            "brings : brings\n",
            "us : u\n",
            "closer : closer\n",
            "understanding : understanding\n",
            "place : place\n",
            "universe : universe\n"
          ]
        }
      ]
    },
    {
      "cell_type": "markdown",
      "source": [
        "Q.3 Regular Expressions and Text Spliƫng\n",
        "\n",
        "Take their original text from QuesƟon 1.\n",
        "Use regular expressions to: a. Extract all words with more than 5 leƩers. b. Extract all numbers (if any exist in their text). c. Extract all capitalized words.\n",
        "Use text spliƫng techniques to: a. Split the text into words containing only alphabets (removing digits and special characters). b. Extract words starƟng with a vowel."
      ],
      "metadata": {
        "id": "QZsFwuisa0vx"
      }
    },
    {
      "cell_type": "code",
      "source": [
        "import re\n",
        "\n",
        "text = \"\"\"\n",
        "Books have always been a gateway to new worlds, offering an escape from the everyday and providing a space for deep reflection.\n",
        "Whether it's fiction or non-fiction, the written word has a way of drawing readers into its pages, sparking imagination and offering new perspectives.\n",
        "Reading allows people to experience other cultures, ideas, and emotions, fostering empathy and understanding.\n",
        "In an age dominated by technology, books still hold a special place, providing a break from the digital noise.\n",
        "The power of storytelling in books is timeless, and their impact on society is undeniable.\n",
        "\"\"\"\n",
        "\n",
        "#2(a)\n",
        "words = re.findall(r'\\b\\w{6,}\\b',text)\n",
        "print(words)\n",
        "\n",
        "#(b)\n",
        "numbers=re.findall(r'\\d+(?:\\.\\d+)?',text)\n",
        "print(numbers)\n",
        "\n",
        "#(c)\n",
        "capitalized=re.findall(r'\\b[A-Z][a-z]*\\b',text)\n",
        "print(capitalized)\n",
        "\n",
        "#3(a)\n",
        "alphabets_words = re.findall(r'\\b[a-zA-Z]+\\b', text)\n",
        "print(\"words containing only alphabets: \",alphabets_words)\n",
        "print()\n",
        "#(b)\n",
        "vowel_words = [word for word in alphabets_words if word[0].lower() in 'aeiou']\n",
        "print(\"words starting with a vowel: \",vowel_words)"
      ],
      "metadata": {
        "colab": {
          "base_uri": "https://localhost:8080/"
        },
        "id": "7LNODXPEa7jB",
        "outputId": "e33fc50f-62ba-49bc-a5ee-a708174d8bb4"
      },
      "execution_count": 7,
      "outputs": [
        {
          "output_type": "stream",
          "name": "stdout",
          "text": [
            "['always', 'gateway', 'worlds', 'offering', 'escape', 'everyday', 'providing', 'reflection', 'Whether', 'fiction', 'fiction', 'written', 'drawing', 'readers', 'sparking', 'imagination', 'offering', 'perspectives', 'Reading', 'allows', 'people', 'experience', 'cultures', 'emotions', 'fostering', 'empathy', 'understanding', 'dominated', 'technology', 'special', 'providing', 'digital', 'storytelling', 'timeless', 'impact', 'society', 'undeniable']\n",
            "[]\n",
            "['Books', 'Whether', 'Reading', 'In', 'The']\n",
            "words containing only alphabets:  ['Books', 'have', 'always', 'been', 'a', 'gateway', 'to', 'new', 'worlds', 'offering', 'an', 'escape', 'from', 'the', 'everyday', 'and', 'providing', 'a', 'space', 'for', 'deep', 'reflection', 'Whether', 'it', 's', 'fiction', 'or', 'non', 'fiction', 'the', 'written', 'word', 'has', 'a', 'way', 'of', 'drawing', 'readers', 'into', 'its', 'pages', 'sparking', 'imagination', 'and', 'offering', 'new', 'perspectives', 'Reading', 'allows', 'people', 'to', 'experience', 'other', 'cultures', 'ideas', 'and', 'emotions', 'fostering', 'empathy', 'and', 'understanding', 'In', 'an', 'age', 'dominated', 'by', 'technology', 'books', 'still', 'hold', 'a', 'special', 'place', 'providing', 'a', 'break', 'from', 'the', 'digital', 'noise', 'The', 'power', 'of', 'storytelling', 'in', 'books', 'is', 'timeless', 'and', 'their', 'impact', 'on', 'society', 'is', 'undeniable']\n",
            "\n",
            "words starting with a vowel:  ['always', 'a', 'offering', 'an', 'escape', 'everyday', 'and', 'a', 'it', 'or', 'a', 'of', 'into', 'its', 'imagination', 'and', 'offering', 'allows', 'experience', 'other', 'ideas', 'and', 'emotions', 'empathy', 'and', 'understanding', 'In', 'an', 'age', 'a', 'a', 'of', 'in', 'is', 'and', 'impact', 'on', 'is', 'undeniable']\n"
          ]
        }
      ]
    },
    {
      "cell_type": "markdown",
      "source": [
        "Q.4  Custom Tokenization & Regex-based Text Cleaning\n",
        "\n",
        "Take original text from Question 1.\n",
        "\n",
        "Write a custom tokenization function that: a. Removes punctuation and special symbols, but keeps contractions (e.g., \"isn't\" should not be split into \"is\" and \"n't\"). b. Handles hyphenated words as a single token (e.g., \"state-of-the-art\" remains a single token). c. Tokenizes numbers separately but keeps decimal numbers intact (e.g., \"3.14\" should remain as is).\n",
        "\n",
        "Use Regex Substitutions (re.sub) to: a. Replace email addresses with '' placeholder. b. Replace URLs with '' placeholder. c. Replace phone numbers (formats: 123-456-7890 or +91 9876543210) with '' placeholder."
      ],
      "metadata": {
        "id": "bUr__m8GcD2o"
      }
    },
    {
      "cell_type": "code",
      "source": [
        "import re\n",
        "\n",
        "text = \"\"\"\n",
        "Books have always been a gateway to new worlds, offering an escape from the everyday and providing a space for deep reflection.\n",
        "Whether it's fiction or non-fiction, the written word has a way of drawing readers into its pages, sparking imagination and offering new perspectives.\n",
        "Reading allows people to experience other cultures, ideas, and emotions, fostering empathy and understanding.\n",
        "In an age dominated by technology, books still hold a special place, providing a break from the digital noise.\n",
        "The power of storytelling in books is timeless, and their impact on society is undeniable.\n",
        "\"\"\"\n",
        "#2\n",
        "def custom_tokenize(text):\n",
        "  text = re.sub(r'([^\\w\\s\\-\\.\\'])', '', text)\n",
        "  text = re.sub(r'(\\w+-\\w+)', r'\\1', text)\n",
        "  tokens = re.findall(r'\\b\\w+\\.\\w+|\\b\\w+\\b', text)\n",
        "  return tokens\n",
        "\n",
        "tokens = custom_tokenize(text)\n",
        "print(tokens)\n",
        "print()\n",
        "\n",
        "#3\n",
        "text1 = \"\"\"Contact me at support@example.com or visit website https://www.example.com.\n",
        "You can also reach out to john.doe@mail.co.in or http://info.test-site.org.\n",
        "Call us at 123-456-7890 or +91 9876543210 \"\"\"\n",
        "\n",
        "text = re.sub(r'\\b[\\w\\.-]+@[\\w\\.-]+\\.\\w+\\b', '<EMAIL>', text1)\n",
        "text = re.sub(r'https?://[^\\s]+', '<URL>', text)\n",
        "text = re.sub(r'(\\+91\\s\\d{10})|(\\d{3}-\\d{3}-\\d{4})', '<PHONE>', text)\n",
        "print(text)\n"
      ],
      "metadata": {
        "colab": {
          "base_uri": "https://localhost:8080/"
        },
        "id": "fT5OMUHhcIur",
        "outputId": "35ebd571-dc91-4b80-9477-d05a5da3856c"
      },
      "execution_count": 8,
      "outputs": [
        {
          "output_type": "stream",
          "name": "stdout",
          "text": [
            "['Books', 'have', 'always', 'been', 'a', 'gateway', 'to', 'new', 'worlds', 'offering', 'an', 'escape', 'from', 'the', 'everyday', 'and', 'providing', 'a', 'space', 'for', 'deep', 'reflection', 'Whether', 'it', 's', 'fiction', 'or', 'non', 'fiction', 'the', 'written', 'word', 'has', 'a', 'way', 'of', 'drawing', 'readers', 'into', 'its', 'pages', 'sparking', 'imagination', 'and', 'offering', 'new', 'perspectives', 'Reading', 'allows', 'people', 'to', 'experience', 'other', 'cultures', 'ideas', 'and', 'emotions', 'fostering', 'empathy', 'and', 'understanding', 'In', 'an', 'age', 'dominated', 'by', 'technology', 'books', 'still', 'hold', 'a', 'special', 'place', 'providing', 'a', 'break', 'from', 'the', 'digital', 'noise', 'The', 'power', 'of', 'storytelling', 'in', 'books', 'is', 'timeless', 'and', 'their', 'impact', 'on', 'society', 'is', 'undeniable']\n",
            "\n",
            "Contact me at <EMAIL> or visit website <URL>\n",
            "You can also reach out to <EMAIL> or <URL>\n",
            "Call us at <PHONE> or <PHONE> \n"
          ]
        }
      ]
    }
  ]
}